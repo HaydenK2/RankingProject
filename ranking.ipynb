{
 "cells": [
  {
   "cell_type": "markdown",
   "metadata": {},
   "source": [
    "# Ranking Determination for Design!!!!!!\n",
    "\n",
    "Which design will win????? Time to find out!"
   ]
  },
  {
   "cell_type": "markdown",
   "metadata": {},
   "source": [
    "## Here are some important imports u need to use\n",
    "\n",
    "``\n",
    "python -m pip install -U matplotlib   \n",
    "``\n",
    "\n",
    "\n",
    "``\n",
    "pip install numpy \n",
    "``"
   ]
  },
  {
   "cell_type": "code",
   "execution_count": 32,
   "metadata": {},
   "outputs": [],
   "source": [
    "import csv\n",
    "import numpy as np\n",
    "import matplotlib.pyplot as plt"
   ]
  },
  {
   "cell_type": "markdown",
   "metadata": {},
   "source": [
    "#   What Am I Doing?\n",
    "\n",
    "1) Process the data\n",
    "2) organize the data by choice #\n",
    "3) display some plots for visuals\n",
    "4) Use some voting algos to figure out the top choice + visuals\n"
   ]
  },
  {
   "cell_type": "code",
   "execution_count": 33,
   "metadata": {},
   "outputs": [
    {
     "name": "stdout",
     "output_type": "stream",
     "text": [
      "[[7, 11, 7], [12, 5, 8], [8, 11, 6], [19, 11, 4], [3, 8, 16], [1, 4, 9]]\n"
     ]
    }
   ],
   "source": [
    "#   [0,0,0]: idx 0 = first choice, idx 1 = 2nd choice, idx 2 = 3rd choice\n",
    "# data_umpressed = {\"Design #1\": [0,0,0], \"Design #2\": [0,0,0], \"Design #3\": [0,0,0], \"Design #4\": [0,0,0], \"Design #5\": [0,0,0], \"Design #6\": [0,0,0]}\n",
    "data_umpressed = [[0,0,0], [0,0,0], [0,0,0], [0,0,0], [0,0,0], [0,0,0]]\n",
    "\n",
    "\n",
    "\n",
    "with open('data\\DesignMerchHouseVote.csv', mode = 'r') as file:\n",
    "    reader = csv.reader(file)\n",
    "    next(reader)\n",
    "    for lines in reader:\n",
    "        choice1 = int(lines[1][-1]) - 1\n",
    "        choice2 = int(lines[2][-1]) - 1\n",
    "        choice3 = int(lines[3][-1]) - 1\n",
    "\n",
    "        data_umpressed[choice1][0] += 1\n",
    "        data_umpressed[choice2][1] += 1\n",
    "        data_umpressed[choice3][2] += 1\n",
    "\n",
    "    \n",
    "print(data_umpressed)\n",
    "\n"
   ]
  },
  {
   "cell_type": "markdown",
   "metadata": {},
   "source": [
    "### Separate data by choice #"
   ]
  },
  {
   "cell_type": "code",
   "execution_count": 43,
   "metadata": {},
   "outputs": [
    {
     "name": "stdout",
     "output_type": "stream",
     "text": [
      "Choice #1\n",
      "[7, 12, 8, 19, 3, 1]\n",
      "\n",
      "Choice #2\n",
      "[11, 5, 11, 11, 8, 4]\n",
      "\n",
      "Choice #3\n",
      "[7, 8, 6, 4, 16, 9]\n",
      "\n"
     ]
    }
   ],
   "source": [
    "#  All First Choices\n",
    "choice1All = [data_umpressed[i][0] for i in range(len(data_umpressed))]\n",
    "print(\"Choice #1\")\n",
    "print(choice1All)\n",
    "print()\n",
    "\n",
    "#  All Second Choices\n",
    "choice2All = [data_umpressed[i][1] for i in range(len(data_umpressed))]\n",
    "print(\"Choice #2\")\n",
    "print(choice2All)\n",
    "print()\n",
    "\n",
    "#  All Third Choices\n",
    "choice3All = [data_umpressed[i][2] for i in range(len(data_umpressed))]\n",
    "print(\"Choice #3\")\n",
    "print(choice3All)\n",
    "print()"
   ]
  },
  {
   "cell_type": "markdown",
   "metadata": {},
   "source": [
    "### Bar Graph the choice data"
   ]
  },
  {
   "cell_type": "code",
   "execution_count": 75,
   "metadata": {},
   "outputs": [
    {
     "data": {
      "image/png": "[encoded data removed]",
      "text/plain": [
       "<Figure size 600x400 with 1 Axes>"
      ]
     },
     "metadata": {},
     "output_type": "display_data"
    }
   ],
   "source": [
    "#   Bar Graph of all choice Display\n",
    "\n",
    "barWidth = 0.25\n",
    "fig = plt.subplots(figsize =(6, 4)) \n",
    "\n",
    "\n",
    "br1 = np.arange(len(choice1All)) \n",
    "br2 = [x + barWidth for x in br1] \n",
    "br3 = [x + barWidth for x in br2] \n",
    "\n",
    "plt.bar(br1, choice1All, color ='b', width = barWidth, \n",
    "        edgecolor ='grey', label ='1st Choice') \n",
    "plt.bar(br2, choice2All, color ='r', width = barWidth, \n",
    "        edgecolor ='grey', label ='2nd Choice') \n",
    "plt.bar(br3, choice3All, color ='g', width = barWidth, \n",
    "        edgecolor ='grey', label ='3rd Choice') \n",
    "\n",
    "plt.title(\"Points by Choice and design\")\n",
    "plt.xlabel('Designs', fontweight ='bold', fontsize = 15) \n",
    "plt.ylabel('Votes', fontweight ='bold', fontsize = 15) \n",
    "plt.xticks([r + barWidth for r in range(len(choice1All))], \n",
    "        ['Design #1', 'Design #2', 'Design #3', 'Design #4', 'Design #5', 'Design #6'])\n",
    "\n",
    "plt.legend()\n",
    "plt.show() "
   ]
  },
  {
   "cell_type": "markdown",
   "metadata": {},
   "source": [
    "# Borda Count\n",
    "Aka: \\\n",
    "1st choice = 3 pts \\\n",
    "2nd choice = 2 pts \\\n",
    "3rd choice = 1 pt"
   ]
  },
  {
   "cell_type": "code",
   "execution_count": null,
   "metadata": {},
   "outputs": [
    {
     "name": "stdout",
     "output_type": "stream",
     "text": [
      "[50, 54, 52, 83, 41, 20]\n",
      "[('Design #1', 50), ('Design #2', 54), ('Design #3', 52), ('Design #4', 83), ('Design #5', 41), ('Design #6', 20)]\n"
     ]
    }
   ],
   "source": [
    "#   Use Borda Count Algo\n",
    "#   tally data\n",
    "design_points = [0 for i in range(6)]\n",
    "\n",
    "for i in range(len(choice1All)):\n",
    "    design_points[i] += 3 * choice1All[i]\n",
    "\n",
    "for i in range(len(choice2All)):\n",
    "    design_points[i] += 2 * choice2All[i]\n",
    "\n",
    "for i in range(len(choice3All)):\n",
    "    design_points[i] += 1 * choice3All[i]\n",
    "\n",
    "design_point_formatted = []\n",
    "for idx, points in enumerate(design_points):\n",
    "    design_name = f\"Design #{idx + 1}\"\n",
    "    design_point_formatted.append(tuple([design_name, points]))\n",
    "\n",
    "print(design_points)\n",
    "print(design_point_formatted)\n"
   ]
  },
  {
   "cell_type": "code",
   "execution_count": 74,
   "metadata": {},
   "outputs": [
    {
     "name": "stdout",
     "output_type": "stream",
     "text": [
      "[('Design #4', 83), ('Design #2', 54), ('Design #3', 52), ('Design #1', 50), ('Design #5', 41), ('Design #6', 20)]\n"
     ]
    },
    {
     "data": {
      "image/png": "[encoded data removed]",
      "text/plain": [
       "<Figure size 600x400 with 1 Axes>"
      ]
     },
     "metadata": {},
     "output_type": "display_data"
    }
   ],
   "source": [
    "#   Final Point Display\n",
    "design_point_formatted.sort(reverse=True, key = lambda x: x[1])\n",
    "print(design_point_formatted)\n",
    "\n",
    "finalized_data = [design_point_formatted[i][1] for i in range(len(design_point_formatted))]\n",
    "x_label = [design_point_formatted[i][0] for i in range(len(design_point_formatted))]\n",
    "\n",
    "#       Visual Data from Borda Count\n",
    "barWidth = 0.25\n",
    "fig = plt.subplots(figsize =(6, 4)) \n",
    "\n",
    "\n",
    "br1 = np.arange(len(finalized_data)) \n",
    "\n",
    "\n",
    "plt.bar(br1, finalized_data, color='b', width = barWidth, \n",
    "        edgecolor ='grey') \n",
    "\n",
    "plt.title(\"Total Points For Each Design\")\n",
    "plt.xlabel('Designs', fontweight ='bold', fontsize = 15) \n",
    "plt.ylabel('All Points', fontweight ='bold', fontsize = 15) \n",
    "plt.xticks([r + barWidth for r in range(len(finalized_data))], \n",
    "       x_label)\n",
    "\n",
    "plt.show() \n"
   ]
  },
  {
   "cell_type": "code",
   "execution_count": 76,
   "metadata": {},
   "outputs": [
    {
     "name": "stdout",
     "output_type": "stream",
     "text": [
      "Data Processed\n",
      "[[7, 11, 7], [12, 5, 8], [8, 11, 6], [19, 11, 4], [3, 8, 16], [1, 4, 9]] \n",
      "\n",
      "Final Ranking\n",
      "[('Design #4', 83), ('Design #2', 54), ('Design #3', 52), ('Design #1', 50), ('Design #5', 41), ('Design #6', 20)] \n",
      "\n"
     ]
    }
   ],
   "source": [
    "print(\"Data Processed\")\n",
    "print(data_umpressed, '\\n')\n",
    "\n",
    "print(\"Final Ranking\")\n",
    "print(design_point_formatted, '\\n')\n"
   ]
  },
  {
   "cell_type": "markdown",
   "metadata": {},
   "source": [
    "# Conclusion\n",
    "\n",
    "Yeah looks like Design 4 won congrats Maddie! :D"
   ]
  }
 ],
 "metadata": {
  "kernelspec": {
   "display_name": "Python 3",
   "language": "python",
   "name": "python3"
  },
  "language_info": {
   "codemirror_mode": {
    "name": "ipython",
    "version": 3
   },
   "file_extension": ".py",
   "mimetype": "text/x-python",
   "name": "python",
   "nbconvert_exporter": "python",
   "pygments_lexer": "ipython3",
   "version": "3.11.8"
  }
 },
 "nbformat": 4,
 "nbformat_minor": 2
}
